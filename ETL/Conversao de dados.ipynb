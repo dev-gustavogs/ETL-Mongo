{
 "cells": [
  {
   "cell_type": "code",
   "execution_count": null,
   "metadata": {},
   "outputs": [],
   "source": [
    "\n",
    "\"\"\"\n",
    "pip install pandas\n",
    "pip install --upgrade pandas\n",
    "\"\"\"\n",
    "\n",
    "'''\n",
    "Tipo Inteiro (int)\n",
    "Ponto Flutuante ou Decimal (float)\n",
    "String (str)\n",
    "String (Object)\n",
    "Data (datetime)\n",
    "\n",
    "'''"
   ]
  },
  {
   "cell_type": "code",
   "execution_count": 1,
   "metadata": {},
   "outputs": [],
   "source": [
    "import pandas as pd"
   ]
  },
  {
   "cell_type": "code",
   "execution_count": 8,
   "metadata": {},
   "outputs": [
    {
     "data": {
      "text/html": [
       "<div>\n",
       "<style scoped>\n",
       "    .dataframe tbody tr th:only-of-type {\n",
       "        vertical-align: middle;\n",
       "    }\n",
       "\n",
       "    .dataframe tbody tr th {\n",
       "        vertical-align: top;\n",
       "    }\n",
       "\n",
       "    .dataframe thead th {\n",
       "        text-align: right;\n",
       "    }\n",
       "</style>\n",
       "<table border=\"1\" class=\"dataframe\">\n",
       "  <thead>\n",
       "    <tr style=\"text-align: right;\">\n",
       "      <th></th>\n",
       "      <th>Data</th>\n",
       "      <th>Id Venda</th>\n",
       "      <th>IdCategoria</th>\n",
       "      <th>Categoria</th>\n",
       "      <th>IdPais</th>\n",
       "      <th>Pais</th>\n",
       "      <th>idProduto</th>\n",
       "      <th>Produto</th>\n",
       "      <th>Custo fabricacao</th>\n",
       "      <th>Unidades Vendidas</th>\n",
       "      <th>Preco venda</th>\n",
       "      <th>Vendas total</th>\n",
       "      <th>Descontos</th>\n",
       "    </tr>\n",
       "  </thead>\n",
       "  <tbody>\n",
       "    <tr>\n",
       "      <th>0</th>\n",
       "      <td>2022-06-05</td>\n",
       "      <td>1</td>\n",
       "      <td>1</td>\n",
       "      <td>Moda</td>\n",
       "      <td>635</td>\n",
       "      <td>Canadá</td>\n",
       "      <td>3</td>\n",
       "      <td>Calça social</td>\n",
       "      <td>3</td>\n",
       "      <td>1188</td>\n",
       "      <td>20</td>\n",
       "      <td>23760</td>\n",
       "      <td>0.00</td>\n",
       "    </tr>\n",
       "    <tr>\n",
       "      <th>1</th>\n",
       "      <td>2021-08-07</td>\n",
       "      <td>2</td>\n",
       "      <td>1</td>\n",
       "      <td>Moda</td>\n",
       "      <td>636</td>\n",
       "      <td>Alemanha</td>\n",
       "      <td>4</td>\n",
       "      <td>Camisa social</td>\n",
       "      <td>3</td>\n",
       "      <td>574</td>\n",
       "      <td>20</td>\n",
       "      <td>11480</td>\n",
       "      <td>0.00</td>\n",
       "    </tr>\n",
       "    <tr>\n",
       "      <th>2</th>\n",
       "      <td>2022-04-15</td>\n",
       "      <td>3</td>\n",
       "      <td>4</td>\n",
       "      <td>Acessórios</td>\n",
       "      <td>637</td>\n",
       "      <td>França</td>\n",
       "      <td>12</td>\n",
       "      <td>Relogio</td>\n",
       "      <td>3</td>\n",
       "      <td>1088</td>\n",
       "      <td>15</td>\n",
       "      <td>16320</td>\n",
       "      <td>0.00</td>\n",
       "    </tr>\n",
       "    <tr>\n",
       "      <th>3</th>\n",
       "      <td>2022-07-12</td>\n",
       "      <td>4</td>\n",
       "      <td>4</td>\n",
       "      <td>Acessórios</td>\n",
       "      <td>636</td>\n",
       "      <td>Alemanha</td>\n",
       "      <td>11</td>\n",
       "      <td>Pulseiras</td>\n",
       "      <td>3</td>\n",
       "      <td>570</td>\n",
       "      <td>15</td>\n",
       "      <td>8550</td>\n",
       "      <td>0.00</td>\n",
       "    </tr>\n",
       "    <tr>\n",
       "      <th>4</th>\n",
       "      <td>2023-03-25</td>\n",
       "      <td>5</td>\n",
       "      <td>4</td>\n",
       "      <td>Acessórios</td>\n",
       "      <td>638</td>\n",
       "      <td>México</td>\n",
       "      <td>2</td>\n",
       "      <td>Braceletes</td>\n",
       "      <td>3</td>\n",
       "      <td>538</td>\n",
       "      <td>15</td>\n",
       "      <td>8070</td>\n",
       "      <td>0.00</td>\n",
       "    </tr>\n",
       "    <tr>\n",
       "      <th>...</th>\n",
       "      <td>...</td>\n",
       "      <td>...</td>\n",
       "      <td>...</td>\n",
       "      <td>...</td>\n",
       "      <td>...</td>\n",
       "      <td>...</td>\n",
       "      <td>...</td>\n",
       "      <td>...</td>\n",
       "      <td>...</td>\n",
       "      <td>...</td>\n",
       "      <td>...</td>\n",
       "      <td>...</td>\n",
       "      <td>...</td>\n",
       "    </tr>\n",
       "    <tr>\n",
       "      <th>1247</th>\n",
       "      <td>2021-07-23</td>\n",
       "      <td>1248</td>\n",
       "      <td>5</td>\n",
       "      <td>Automitivos</td>\n",
       "      <td>637</td>\n",
       "      <td>França</td>\n",
       "      <td>8</td>\n",
       "      <td>Limpa vidros</td>\n",
       "      <td>260</td>\n",
       "      <td>388</td>\n",
       "      <td>300</td>\n",
       "      <td>116400</td>\n",
       "      <td>111375.00</td>\n",
       "    </tr>\n",
       "    <tr>\n",
       "      <th>1248</th>\n",
       "      <td>2021-08-08</td>\n",
       "      <td>1249</td>\n",
       "      <td>5</td>\n",
       "      <td>Automitivos</td>\n",
       "      <td>638</td>\n",
       "      <td>México</td>\n",
       "      <td>8</td>\n",
       "      <td>Limpa vidros</td>\n",
       "      <td>260</td>\n",
       "      <td>479</td>\n",
       "      <td>300</td>\n",
       "      <td>143700</td>\n",
       "      <td>24570.00</td>\n",
       "    </tr>\n",
       "    <tr>\n",
       "      <th>1249</th>\n",
       "      <td>2022-12-12</td>\n",
       "      <td>1250</td>\n",
       "      <td>1</td>\n",
       "      <td>Moda</td>\n",
       "      <td>638</td>\n",
       "      <td>México</td>\n",
       "      <td>4</td>\n",
       "      <td>Camisa social</td>\n",
       "      <td>5</td>\n",
       "      <td>154</td>\n",
       "      <td>7</td>\n",
       "      <td>1078</td>\n",
       "      <td>1436.40</td>\n",
       "    </tr>\n",
       "    <tr>\n",
       "      <th>1250</th>\n",
       "      <td>2022-10-16</td>\n",
       "      <td>1251</td>\n",
       "      <td>1</td>\n",
       "      <td>Moda</td>\n",
       "      <td>635</td>\n",
       "      <td>Canadá</td>\n",
       "      <td>4</td>\n",
       "      <td>Camisa social</td>\n",
       "      <td>10</td>\n",
       "      <td>186</td>\n",
       "      <td>7</td>\n",
       "      <td>1302</td>\n",
       "      <td>759.15</td>\n",
       "    </tr>\n",
       "    <tr>\n",
       "      <th>1251</th>\n",
       "      <td>2021-08-04</td>\n",
       "      <td>1252</td>\n",
       "      <td>2</td>\n",
       "      <td>Calçados</td>\n",
       "      <td>639</td>\n",
       "      <td>USA</td>\n",
       "      <td>13</td>\n",
       "      <td>Sapatilha</td>\n",
       "      <td>250</td>\n",
       "      <td>784</td>\n",
       "      <td>12</td>\n",
       "      <td>9408</td>\n",
       "      <td>3250.80</td>\n",
       "    </tr>\n",
       "  </tbody>\n",
       "</table>\n",
       "<p>1252 rows × 13 columns</p>\n",
       "</div>"
      ],
      "text/plain": [
       "           Data  Id Venda  IdCategoria    Categoria  IdPais      Pais  \\\n",
       "0    2022-06-05         1            1         Moda     635    Canadá   \n",
       "1    2021-08-07         2            1         Moda     636  Alemanha   \n",
       "2    2022-04-15         3            4   Acessórios     637    França   \n",
       "3    2022-07-12         4            4   Acessórios     636  Alemanha   \n",
       "4    2023-03-25         5            4   Acessórios     638    México   \n",
       "...         ...       ...          ...          ...     ...       ...   \n",
       "1247 2021-07-23      1248            5  Automitivos     637    França   \n",
       "1248 2021-08-08      1249            5  Automitivos     638    México   \n",
       "1249 2022-12-12      1250            1         Moda     638    México   \n",
       "1250 2022-10-16      1251            1         Moda     635    Canadá   \n",
       "1251 2021-08-04      1252            2     Calçados     639       USA   \n",
       "\n",
       "      idProduto        Produto  Custo fabricacao  Unidades Vendidas  \\\n",
       "0             3   Calça social                 3               1188   \n",
       "1             4  Camisa social                 3                574   \n",
       "2            12        Relogio                 3               1088   \n",
       "3            11      Pulseiras                 3                570   \n",
       "4             2     Braceletes                 3                538   \n",
       "...         ...            ...               ...                ...   \n",
       "1247          8   Limpa vidros               260                388   \n",
       "1248          8   Limpa vidros               260                479   \n",
       "1249          4  Camisa social                 5                154   \n",
       "1250          4  Camisa social                10                186   \n",
       "1251         13      Sapatilha               250                784   \n",
       "\n",
       "      Preco venda  Vendas total  Descontos  \n",
       "0              20         23760       0.00  \n",
       "1              20         11480       0.00  \n",
       "2              15         16320       0.00  \n",
       "3              15          8550       0.00  \n",
       "4              15          8070       0.00  \n",
       "...           ...           ...        ...  \n",
       "1247          300        116400  111375.00  \n",
       "1248          300        143700   24570.00  \n",
       "1249            7          1078    1436.40  \n",
       "1250            7          1302     759.15  \n",
       "1251           12          9408    3250.80  \n",
       "\n",
       "[1252 rows x 13 columns]"
      ]
     },
     "execution_count": 8,
     "metadata": {},
     "output_type": "execute_result"
    }
   ],
   "source": [
    "df = pd.read_excel(r\"C:\\Users\\gusta\\OneDrive\\Documentos\\Cursos\\MongoDB\\08.MongoDB\\MeusScripts\\Arquivos\\VendasProj2.xlsx\")\n",
    "df"
   ]
  },
  {
   "attachments": {},
   "cell_type": "markdown",
   "metadata": {},
   "source": [
    "###                              Conversoes de dados"
   ]
  },
  {
   "cell_type": "code",
   "execution_count": 11,
   "metadata": {},
   "outputs": [
    {
     "data": {
      "text/plain": [
       "dtype('int64')"
      ]
     },
     "execution_count": 11,
     "metadata": {},
     "output_type": "execute_result"
    }
   ],
   "source": [
    "df['Id Venda'].dtype"
   ]
  },
  {
   "cell_type": "code",
   "execution_count": null,
   "metadata": {},
   "outputs": [],
   "source": [
    "print(df['id'].dtype)"
   ]
  },
  {
   "cell_type": "code",
   "execution_count": null,
   "metadata": {},
   "outputs": [],
   "source": [
    "print(df['created_at'].dtypes)\n",
    "print(df['first_name'].dtypes)\n",
    "print(df['id'].dtype)"
   ]
  },
  {
   "cell_type": "code",
   "execution_count": null,
   "metadata": {},
   "outputs": [],
   "source": [
    "df"
   ]
  },
  {
   "cell_type": "code",
   "execution_count": null,
   "metadata": {},
   "outputs": [],
   "source": [
    "for coluna in df.columns:\n",
    "    print(f\"Coluna: {coluna}, Tipo de dados: {df[coluna].dtypes}\")\n"
   ]
  },
  {
   "cell_type": "code",
   "execution_count": null,
   "metadata": {},
   "outputs": [],
   "source": [
    "df"
   ]
  },
  {
   "cell_type": "code",
   "execution_count": null,
   "metadata": {},
   "outputs": [],
   "source": [
    "df['id'] = df['id'].astype(float)"
   ]
  },
  {
   "cell_type": "code",
   "execution_count": null,
   "metadata": {},
   "outputs": [],
   "source": [
    "print(df['id'].dtype)"
   ]
  },
  {
   "cell_type": "code",
   "execution_count": null,
   "metadata": {},
   "outputs": [],
   "source": [
    "df['number'] = df['number'].astype(str)"
   ]
  },
  {
   "cell_type": "code",
   "execution_count": null,
   "metadata": {},
   "outputs": [],
   "source": [
    "print(df['number'].dtype)"
   ]
  },
  {
   "cell_type": "code",
   "execution_count": null,
   "metadata": {},
   "outputs": [],
   "source": [
    "for coluna in df.columns:\n",
    "    print(f\"Coluna: {coluna}, Tipo de dados: {df[coluna].dtypes}\")"
   ]
  },
  {
   "attachments": {},
   "cell_type": "markdown",
   "metadata": {},
   "source": [
    "## Conversao Datas\n"
   ]
  },
  {
   "cell_type": "code",
   "execution_count": null,
   "metadata": {},
   "outputs": [],
   "source": [
    "import pandas as pd"
   ]
  },
  {
   "cell_type": "code",
   "execution_count": null,
   "metadata": {},
   "outputs": [],
   "source": [
    "df = pd.read_csv(r\"K:\\Python\\Arquivos\\Origem\\arquivos_csv\\Clientes.csv\", delimiter=',')\n",
    "df"
   ]
  },
  {
   "cell_type": "code",
   "execution_count": null,
   "metadata": {},
   "outputs": [],
   "source": [
    "print(df['created_at'].dtypes)"
   ]
  },
  {
   "cell_type": "code",
   "execution_count": null,
   "metadata": {},
   "outputs": [],
   "source": [
    "# Converter a coluna 'created_at' para o formato de data e hora\n",
    "df['created_at'] = pd.to_datetime(df['created_at'])"
   ]
  },
  {
   "cell_type": "code",
   "execution_count": null,
   "metadata": {},
   "outputs": [],
   "source": [
    "print(df['created_at'].dtypes)"
   ]
  },
  {
   "cell_type": "code",
   "execution_count": null,
   "metadata": {},
   "outputs": [],
   "source": [
    "# Filtrar os dados para o intervalo de anos entre 2018 e 2020\n",
    "df_filtrado = df[(df['created_at'].dt.year >= 2018) & (df['created_at'].dt.year <= 2020)]\n",
    "df_filtrado\n"
   ]
  },
  {
   "cell_type": "code",
   "execution_count": null,
   "metadata": {},
   "outputs": [],
   "source": [
    "# Filtrar somente o ano de 2018 e o mês de janeiro\n",
    "df_dt2 = df[(df['created_at'].dt.year == 2018) & (df['created_at'].dt.month == 1)]\n",
    "\n",
    "# Imprimir o DataFrame filtrado\n",
    "df_dt2.head(30)"
   ]
  },
  {
   "attachments": {},
   "cell_type": "markdown",
   "metadata": {},
   "source": [
    "Conversao formato brasileiro"
   ]
  },
  {
   "cell_type": "code",
   "execution_count": null,
   "metadata": {},
   "outputs": [],
   "source": [
    "df"
   ]
  },
  {
   "cell_type": "code",
   "execution_count": null,
   "metadata": {},
   "outputs": [],
   "source": [
    "# Converter a coluna 'created_at' para o formato de data no padrão brasileiro\n",
    "df['created_at'] = df['created_at'].dt.strftime('%d/%m/%Y')\n",
    "\n"
   ]
  },
  {
   "cell_type": "code",
   "execution_count": null,
   "metadata": {},
   "outputs": [],
   "source": [
    "df"
   ]
  },
  {
   "attachments": {},
   "cell_type": "markdown",
   "metadata": {},
   "source": [
    "## converter padrao BR no primeiro comando"
   ]
  },
  {
   "cell_type": "code",
   "execution_count": null,
   "metadata": {},
   "outputs": [],
   "source": [
    "import pandas as pd\n",
    "df = pd.read_csv(r\"K:\\Python\\Arquivos\\Origem\\arquivos_csv\\Clientes.csv\", delimiter=',')\n",
    "df['created_at'] = pd.to_datetime(df['created_at'])\n",
    "df['created_at'] = df['created_at'].dt.strftime('%d/%m/%Y %H:%M:%S')\n",
    "df\n"
   ]
  }
 ],
 "metadata": {
  "kernelspec": {
   "display_name": ".venv",
   "language": "python",
   "name": "python3"
  },
  "language_info": {
   "codemirror_mode": {
    "name": "ipython",
    "version": 3
   },
   "file_extension": ".py",
   "mimetype": "text/x-python",
   "name": "python",
   "nbconvert_exporter": "python",
   "pygments_lexer": "ipython3",
   "version": "3.13.1"
  },
  "orig_nbformat": 4
 },
 "nbformat": 4,
 "nbformat_minor": 2
}
